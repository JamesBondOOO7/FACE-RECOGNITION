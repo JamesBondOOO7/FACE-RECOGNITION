{
 "cells": [
  {
   "cell_type": "code",
   "execution_count": 1,
   "metadata": {},
   "outputs": [],
   "source": [
    "import cv2\n",
    "import numpy as np\n",
    "import matplotlib.pyplot as plt"
   ]
  },
  {
   "cell_type": "code",
   "execution_count": 2,
   "metadata": {},
   "outputs": [],
   "source": [
    "glog = cv2.imread(\"./filters/thug.png\",cv2.IMREAD_UNCHANGED)\n",
    "must = cv2.imread(\"./filters/mustache.png\",cv2.IMREAD_UNCHANGED)"
   ]
  },
  {
   "cell_type": "code",
   "execution_count": 3,
   "metadata": {},
   "outputs": [
    {
     "data": {
      "image/png": "[encoded data removed]",
      "text/plain": [
       "<Figure size 432x288 with 1 Axes>"
      ]
     },
     "metadata": {
      "needs_background": "light"
     },
     "output_type": "display_data"
    },
    {
     "data": {
      "image/png": "[encoded data removed]",
      "text/plain": [
       "<Figure size 432x288 with 1 Axes>"
      ]
     },
     "metadata": {
      "needs_background": "light"
     },
     "output_type": "display_data"
    }
   ],
   "source": [
    "plt.imshow(glog)\n",
    "plt.show()\n",
    "plt.imshow(must)\n",
    "plt.show()"
   ]
  },
  {
   "cell_type": "code",
   "execution_count": 4,
   "metadata": {},
   "outputs": [],
   "source": [
    "def Glasses(eyes,frame,glg):\n",
    "    if(len(eyes) == 2):\n",
    "\n",
    "        x1,y1,w1,h1 = eyes[0]\n",
    "        x2,y2,w2,h2 = eyes[1]\n",
    "        \n",
    "        w = int(1.40*(abs(x2 - x1) + max(w2,w1)))\n",
    "        h = int(1.40*(abs(y2 - y1) + max(h2,h1)))            \n",
    "        \n",
    "        glg = cv2.resize(glg,(w,h))\n",
    "        \n",
    "        xp = min(x1,x2) - int(w/6.5)\n",
    "        yp = min(y2,y1) - h//7\n",
    "        \n",
    "        for y in range(glg.shape[0]):\n",
    "            for x in range(glg.shape[1]):\n",
    "                if( glg[y][x][3] > 0):\n",
    "                    frame[yp + y,xp + x, : ] = glg[y,x, :-1 ]\n",
    "    \n",
    "    return frame"
   ]
  },
  {
   "cell_type": "code",
   "execution_count": 5,
   "metadata": {},
   "outputs": [],
   "source": [
    "def Moustache(nose,frame,mst):\n",
    "    \n",
    "    if len(nose)==0 or len(nose) > 4:\n",
    "        return frame\n",
    "    \n",
    "    else:\n",
    "        \n",
    "        x1,y1,w1,h1 = nose\n",
    "        w = int(1.2*w1)\n",
    "        h = h1\n",
    "        mst = cv2.resize(mst,(w,h))\n",
    "\n",
    "        xp = x1\n",
    "        yp = int(1.08*y1)\n",
    "\n",
    "        for y in range(mst.shape[0]):\n",
    "            for x in range(mst.shape[1]):\n",
    "                if( mst[y][x][3] > 0):\n",
    "                    frame[yp + y,xp + x, : ] = mst[y,x, :-1 ]\n",
    "        return frame"
   ]
  },
  {
   "cell_type": "code",
   "execution_count": 6,
   "metadata": {},
   "outputs": [],
   "source": [
    "cap = cv2.VideoCapture(0)\n",
    "eye_cascade = cv2.CascadeClassifier(\"./eye.xml\")\n",
    "mst_cascade = cv2.CascadeClassifier(\"./Nose18x15.xml\")\n",
    "while True:\n",
    "    ret,frame = cap.read()\n",
    "    \n",
    "    if ret == False:\n",
    "        continue\n",
    "        \n",
    "    eyes = eye_cascade.detectMultiScale(frame,1.3,5)\n",
    "    \n",
    "    frame = Glasses(eyes,frame,glog)\n",
    "    \n",
    "    nose = mst_cascade.detectMultiScale(frame,1.3,5)\n",
    "    \n",
    "    if len(nose) >= 1:\n",
    "        nose = sorted(nose,key= lambda t : t[2]*t[3])\n",
    "        frame = Moustache(nose[-1],frame,must)\n",
    "    \n",
    "    cv2.imshow(\"SNAPCHAT\",frame)\n",
    "    key_pressed = cv2.waitKey(1) & 0xFF\n",
    "    if key_pressed == ord('q'):\n",
    "        break\n",
    "    \n",
    "        \n",
    "cap.release()\n",
    "cv2.destroyAllWindows()"
   ]
  },
  {
   "cell_type": "code",
   "execution_count": null,
   "metadata": {},
   "outputs": [],
   "source": []
  }
 ],
 "metadata": {
  "kernelspec": {
   "display_name": "Python 3",
   "language": "python",
   "name": "python3"
  },
  "language_info": {
   "codemirror_mode": {
    "name": "ipython",
    "version": 3
   },
   "file_extension": ".py",
   "mimetype": "text/x-python",
   "name": "python",
   "nbconvert_exporter": "python",
   "pygments_lexer": "ipython3",
   "version": "3.7.6"
  }
 },
 "nbformat": 4,
 "nbformat_minor": 4
}
